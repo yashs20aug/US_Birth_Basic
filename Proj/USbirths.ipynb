{
 "cells": [
  {
   "cell_type": "code",
   "execution_count": 1,
   "metadata": {
    "collapsed": false
   },
   "outputs": [
    {
     "name": "stdout",
     "output_type": "stream",
     "text": [
      "['year,month,date_of_month,day_of_week,births', '1994,1,1,6,8096', '1994,1,2,7,7772', '1994,1,3,1,10142', '1994,1,4,2,11248', '1994,1,5,3,11053', '1994,1,6,4,11406', '1994,1,7,5,11251', '1994,1,8,6,8653', '1994,1,9,7,7910']\n"
     ]
    }
   ],
   "source": [
    "f=open(\"US_births_1994-2003_CDC_NCHS.csv\",'r').read()\n",
    "data_set =f.split(\"\\n\")\n",
    "print(data_set[0:10])\n"
   ]
  },
  {
   "cell_type": "code",
   "execution_count": 4,
   "metadata": {
    "collapsed": false
   },
   "outputs": [
    {
     "data": {
      "text/plain": [
       "[[1994, 1, 1, 6, 8096],\n",
       " [1994, 1, 2, 7, 7772],\n",
       " [1994, 1, 3, 1, 10142],\n",
       " [1994, 1, 4, 2, 11248],\n",
       " [1994, 1, 5, 3, 11053],\n",
       " [1994, 1, 6, 4, 11406],\n",
       " [1994, 1, 7, 5, 11251],\n",
       " [1994, 1, 8, 6, 8653],\n",
       " [1994, 1, 9, 7, 7910],\n",
       " [1994, 1, 10, 1, 10498]]"
      ]
     },
     "execution_count": 4,
     "metadata": {},
     "output_type": "execute_result"
    }
   ],
   "source": [
    "def read_csv(file_name):\n",
    "    final_list= []\n",
    "    f=open(\"US_births_1994-2003_CDC_NCHS.csv\",'r').read()\n",
    "    string_list =f.split(\"\\n\")\n",
    "    for items in string_list[1:]:\n",
    "        int_fields=[]\n",
    "        string_fields=items.split(',')\n",
    "        int_fields=[int(i) for i in string_fields]\n",
    "        final_list.append(int_fields)\n",
    "    return final_list\n",
    "cdc_list=read_csv(\"US_births_1994-2003_CDC_NCHS.csv\") \n",
    "cdc_list[0:10]"
   ]
  },
  {
   "cell_type": "code",
   "execution_count": 5,
   "metadata": {
    "collapsed": false
   },
   "outputs": [
    {
     "data": {
      "text/plain": [
       "{1: 3232517,\n",
       " 2: 3018140,\n",
       " 3: 3322069,\n",
       " 4: 3185314,\n",
       " 5: 3350907,\n",
       " 6: 3296530,\n",
       " 7: 3498783,\n",
       " 8: 3525858,\n",
       " 9: 3439698,\n",
       " 10: 3378814,\n",
       " 11: 3171647,\n",
       " 12: 3301860}"
      ]
     },
     "execution_count": 5,
     "metadata": {},
     "output_type": "execute_result"
    }
   ],
   "source": [
    "def month_births(list_of_lists):\n",
    "    births_per_month = {}\n",
    "    for items in list_of_lists:\n",
    "        month = items[1]\n",
    "        births = items[4]\n",
    "        if month in births_per_month:\n",
    "            births_per_month[month]=births_per_month[month]+births\n",
    "        else:\n",
    "            births_per_month[month]=births\n",
    "    return births_per_month\n",
    "cdc_month_births = month_births(cdc_list)\n",
    "cdc_month_births"
   ]
  },
  {
   "cell_type": "code",
   "execution_count": 6,
   "metadata": {
    "collapsed": false
   },
   "outputs": [
    {
     "data": {
      "text/plain": [
       "{1: 5789166,\n",
       " 2: 6446196,\n",
       " 3: 6322855,\n",
       " 4: 6288429,\n",
       " 5: 6233657,\n",
       " 6: 4562111,\n",
       " 7: 4079723}"
      ]
     },
     "execution_count": 6,
     "metadata": {},
     "output_type": "execute_result"
    }
   ],
   "source": [
    "def dow_births(list_of_lists):\n",
    "    births_per_day={}\n",
    "    for item in list_of_lists:\n",
    "        day=item[3]\n",
    "        births=item[4]\n",
    "        if day in births_per_day:\n",
    "            births_per_day[day]=births_per_day[day]+births\n",
    "        else:\n",
    "            births_per_day[day]=births\n",
    "    return births_per_day\n",
    "cdc_day_births = dow_births(cdc_list)\n",
    "cdc_day_births\n",
    "\n",
    "    "
   ]
  },
  {
   "cell_type": "code",
   "execution_count": 12,
   "metadata": {
    "collapsed": false
   },
   "outputs": [
    {
     "name": "stdout",
     "output_type": "stream",
     "text": [
      "{2000: 4058814, 2001: 4025933, 2002: 4021726, 2003: 4089950, 1994: 3952767, 1995: 3899589, 1996: 3891494, 1997: 3880894, 1998: 3941553, 1999: 3959417}\n",
      "\n",
      "\n",
      "\n",
      "{1: 5789166, 2: 6446196, 3: 6322855, 4: 6288429, 5: 6233657, 6: 4562111, 7: 4079723}\n",
      "\n",
      "\n",
      "\n",
      "{1: 3232517, 2: 3018140, 3: 3322069, 4: 3185314, 5: 3350907, 6: 3296530, 7: 3498783, 8: 3525858, 9: 3439698, 10: 3378814, 11: 3171647, 12: 3301860}\n",
      "\n",
      "\n",
      "\n",
      "{1: 1276557, 2: 1288739, 3: 1304499, 4: 1288154, 5: 1299953, 6: 1304474, 7: 1310459, 8: 1312297, 9: 1303292, 10: 1320764, 11: 1314361, 12: 1318437, 13: 1277684, 14: 1320153, 15: 1319171, 16: 1315192, 17: 1324953, 18: 1326855, 19: 1318727, 20: 1324821, 21: 1322897, 22: 1317381, 23: 1293290, 24: 1288083, 25: 1272116, 26: 1284796, 27: 1294395, 28: 1307685, 29: 1223161, 30: 1202095, 31: 746696}\n"
     ]
    }
   ],
   "source": [
    "def calc_counts(data,column):\n",
    "    births_per_column = {}\n",
    "    for item in data:            \n",
    "        criteria = item[column]\n",
    "        births=item[4]\n",
    "        if criteria in births_per_column:\n",
    "            births_per_column[criteria] += births\n",
    "        else:\n",
    "            births_per_column[criteria] = births\n",
    "    return births_per_column\n",
    "cdc_year_births = calc_counts(cdc_list,0)\n",
    "cdc_month_births = calc_counts(cdc_list,1)\n",
    "cdc_dom_births = calc_counts(cdc_list,2)\n",
    "cdc_dow_births = calc_counts(cdc_list,3)\n",
    "print(cdc_year_births)\n",
    "print(\"\\n\\n\")\n",
    "print(cdc_dow_births)\n",
    "print(\"\\n\\n\")\n",
    "print(cdc_month_births)\n",
    "print(\"\\n\\n\")\n",
    "print(cdc_dom_births)\n",
    "    "
   ]
  },
  {
   "cell_type": "code",
   "execution_count": 17,
   "metadata": {
    "collapsed": false
   },
   "outputs": [
    {
     "name": "stdout",
     "output_type": "stream",
     "text": [
      "[18, 1326855]\n"
     ]
    }
   ],
   "source": [
    "def max_dict_value(some_dict):\n",
    "    max_val=0\n",
    "    for item in some_dict:\n",
    "        if max_val<some_dict[item]:\n",
    "            max_val=some_dict[item]\n",
    "            i=item\n",
    "        else:\n",
    "            pass\n",
    "    max_val_list = [i,max_val]\n",
    "    return max_val_list\n",
    "print(max_dict_value(cdc_dom_births))\n",
    "        \n",
    "    "
   ]
  },
  {
   "cell_type": "code",
   "execution_count": null,
   "metadata": {
    "collapsed": true
   },
   "outputs": [],
   "source": []
  }
 ],
 "metadata": {
  "anaconda-cloud": {},
  "kernelspec": {
   "display_name": "Python 3",
   "language": "python",
   "name": "python3"
  },
  "language_info": {
   "codemirror_mode": {
    "name": "ipython",
    "version": 3
   },
   "file_extension": ".py",
   "mimetype": "text/x-python",
   "name": "python",
   "nbconvert_exporter": "python",
   "pygments_lexer": "ipython3",
   "version": "3.4.3"
  }
 },
 "nbformat": 4,
 "nbformat_minor": 1
}
